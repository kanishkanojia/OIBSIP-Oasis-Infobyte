{
  "nbformat": 4,
  "nbformat_minor": 0,
  "metadata": {
    "colab": {
      "provenance": [],
      "private_outputs": true
    },
    "kernelspec": {
      "name": "python3",
      "display_name": "Python 3"
    },
    "language_info": {
      "name": "python"
    }
  },
  "cells": [
    {
      "cell_type": "markdown",
      "source": [
        "## NAME - ***KANISHKA KANOJIA***\n",
        "## DATA SCIENCE INTERNSHIP @ OASIS INFOBYTE"
      ],
      "metadata": {
        "id": "aMBrlC7li6MF"
      }
    },
    {
      "cell_type": "markdown",
      "source": [
        "## **TASK 1**"
      ],
      "metadata": {
        "id": "fBQgVJ6mj3Yo"
      }
    },
    {
      "cell_type": "markdown",
      "source": [
        "# PROJECT NAME - **EMAIL SPAM DETECTION WITH MACHINE LEARNING**"
      ],
      "metadata": {
        "id": "Ret6FxqlfjtK"
      }
    },
    {
      "cell_type": "code",
      "source": [
        "from IPython.display import Image\n",
        "Image(url='https://encrypted-tbn0.gstatic.com/images?q=tbn:ANd9GcRMTZzwzqcPlQXfaktaySc3cTBRbIRuQZ7pMQ&usqp=CAU', width=650)"
      ],
      "metadata": {
        "id": "eEpB5W5Don8B"
      },
      "execution_count": null,
      "outputs": []
    },
    {
      "cell_type": "markdown",
      "source": [
        "# **Github Link**\n",
        "#https://github.com/kanishkanojia/OIBSIP-Oasis-Infobyte"
      ],
      "metadata": {
        "id": "SLwPxMeiueT9"
      }
    },
    {
      "cell_type": "markdown",
      "source": [
        "## Problem Statement"
      ],
      "metadata": {
        "id": "jx5OJRuSfXVj"
      }
    },
    {
      "cell_type": "markdown",
      "source": [
        "We’ve all been the recipient of spam emails before. Spam mail, or junk mail, is a type of email\n",
        "that is sent to a massive number of users at one time, frequently containing cryptic\n",
        "messages, scams, or most dangerously, phishing content.\n",
        "\n",
        "\n",
        "\n",
        "In this Project, use Python to build an email spam detector. Then, use machine learning to\n",
        "train the spam detector to recognize and classify emails into spam and non-spam. Let’s get\n",
        "started!"
      ],
      "metadata": {
        "id": "XC06Plfae_qT"
      }
    },
    {
      "cell_type": "markdown",
      "metadata": {
        "id": "kqB21QOgMg-G"
      },
      "source": [
        "## Importing the Libraries"
      ]
    },
    {
      "cell_type": "code",
      "metadata": {
        "id": "rALI06-oHusw"
      },
      "source": [
        "import numpy as np\n",
        "import pandas as pd\n",
        "from sklearn.model_selection import train_test_split\n",
        "\n",
        "# convert text into feature vector or numeric values\n",
        "from sklearn.feature_extraction.text import TfidfVectorizer\n",
        "\n",
        "from sklearn.linear_model import LogisticRegression\n",
        "from sklearn.metrics import accuracy_score"
      ],
      "execution_count": null,
      "outputs": []
    },
    {
      "cell_type": "markdown",
      "metadata": {
        "id": "YyKe9o2ONeFv"
      },
      "source": [
        "## Data Collection & Pre-Processing"
      ]
    },
    {
      "cell_type": "code",
      "metadata": {
        "id": "CpStHH8KNcYB"
      },
      "source": [
        "# loading the data from csv file to a pandas Dataframe\n",
        "raw_data = pd.read_csv('/content/spam.csv', encoding='latin')"
      ],
      "execution_count": null,
      "outputs": []
    },
    {
      "cell_type": "code",
      "metadata": {
        "id": "pdn-7VE2NxsZ"
      },
      "source": [
        "print(raw_data)"
      ],
      "execution_count": null,
      "outputs": []
    },
    {
      "cell_type": "code",
      "metadata": {
        "id": "SJey6H-SOWeK"
      },
      "source": [
        "# printing the first 5 rows of the dataframe\n",
        "raw_data.head()"
      ],
      "execution_count": null,
      "outputs": []
    },
    {
      "cell_type": "code",
      "source": [
        "raw_data.tail()"
      ],
      "metadata": {
        "id": "L7RhV0ed6Xgu"
      },
      "execution_count": null,
      "outputs": []
    },
    {
      "cell_type": "code",
      "metadata": {
        "id": "IbK82N2gOdar"
      },
      "source": [
        "# checking the number of rows and columns in the dataframe\n",
        "raw_data.shape"
      ],
      "execution_count": null,
      "outputs": []
    },
    {
      "cell_type": "code",
      "source": [
        "raw_data.columns"
      ],
      "metadata": {
        "id": "AS02F7ef6xUY"
      },
      "execution_count": null,
      "outputs": []
    },
    {
      "cell_type": "code",
      "source": [
        "raw_data.info()"
      ],
      "metadata": {
        "id": "275b2rVl7BzT"
      },
      "execution_count": null,
      "outputs": []
    },
    {
      "cell_type": "code",
      "source": [
        "raw_data.duplicated().sum()"
      ],
      "metadata": {
        "id": "6oz3wtXV7JTa"
      },
      "execution_count": null,
      "outputs": []
    },
    {
      "cell_type": "code",
      "source": [
        "raw_data.nunique()"
      ],
      "metadata": {
        "id": "L65Irn537QLz"
      },
      "execution_count": null,
      "outputs": []
    },
    {
      "cell_type": "code",
      "source": [
        "raw_data.isnull().sum()"
      ],
      "metadata": {
        "id": "N6-LyoLnWSn5"
      },
      "execution_count": null,
      "outputs": []
    },
    {
      "cell_type": "code",
      "metadata": {
        "id": "yhakjIE1N011"
      },
      "source": [
        "# replace the null values with a null string\n",
        "#creating a new dataframe\n",
        "mail_data = raw_data.where((pd.notnull(raw_data)),'')"
      ],
      "execution_count": null,
      "outputs": []
    },
    {
      "cell_type": "markdown",
      "source": [
        "ham -> non spam mail \\\n",
        "spam -> spam mail"
      ],
      "metadata": {
        "id": "JEt5-QKEX1fm"
      }
    },
    {
      "cell_type": "code",
      "source": [
        "# rename the columns\n",
        "mail_data=mail_data.rename(columns={'v1':'Category',\n",
        "                                    'v2':'Message'})"
      ],
      "metadata": {
        "id": "CUWZW6wdya9f"
      },
      "execution_count": null,
      "outputs": []
    },
    {
      "cell_type": "markdown",
      "metadata": {
        "id": "vhR4U3ATPBdk"
      },
      "source": [
        "## Label Encoding"
      ]
    },
    {
      "cell_type": "markdown",
      "source": [
        "Label encoding is a process of converting categorical or textual data into numerical labels. In machine learning and data analysis, many algorithms require numerical inputs, and label encoding provides a way to represent categorical data in a format that can be easily understood by these algorithms."
      ],
      "metadata": {
        "id": "gkoZSZ02XjeP"
      }
    },
    {
      "cell_type": "code",
      "metadata": {
        "id": "9EW7QSgeOt4p"
      },
      "source": [
        "# label spam mail as 0;  ham mail as 1;\n",
        "\n",
        "mail_data.loc[mail_data['Category'] == 'spam', 'Category',] = 0\n",
        "mail_data.loc[mail_data['Category'] == 'ham', 'Category',] = 1"
      ],
      "execution_count": null,
      "outputs": []
    },
    {
      "cell_type": "markdown",
      "metadata": {
        "id": "uxZK1fWwPwII"
      },
      "source": [
        "spam  -  0\n",
        "\n",
        "ham  -  1"
      ]
    },
    {
      "cell_type": "code",
      "metadata": {
        "id": "t8Rt-FaNPtPE"
      },
      "source": [
        "# separating the data as texts and label\n",
        "\n",
        "X = mail_data['Message']\n",
        "\n",
        "Y = mail_data['Category']"
      ],
      "execution_count": null,
      "outputs": []
    },
    {
      "cell_type": "code",
      "metadata": {
        "id": "QnQeUBGtQPP7"
      },
      "source": [
        "print(X)"
      ],
      "execution_count": null,
      "outputs": []
    },
    {
      "cell_type": "code",
      "metadata": {
        "id": "cuWDNy5KQQjY"
      },
      "source": [
        "print(Y)"
      ],
      "execution_count": null,
      "outputs": []
    },
    {
      "cell_type": "markdown",
      "metadata": {
        "id": "jvHyqdH8QZPH"
      },
      "source": [
        "## Splitting the data into training data & test data"
      ]
    },
    {
      "cell_type": "code",
      "metadata": {
        "id": "RO2GmbSNQSQH"
      },
      "source": [
        "X_train, X_test, Y_train, Y_test = train_test_split(X, Y, test_size=0.2, random_state=3)"
      ],
      "execution_count": null,
      "outputs": []
    },
    {
      "cell_type": "code",
      "metadata": {
        "id": "tS2c7A4NRa46"
      },
      "source": [
        "print(X.shape)\n",
        "print(X_train.shape)\n",
        "print(X_test.shape)"
      ],
      "execution_count": null,
      "outputs": []
    },
    {
      "cell_type": "markdown",
      "metadata": {
        "id": "wYQpiACGSBYM"
      },
      "source": [
        "## Feature Extraction"
      ]
    },
    {
      "cell_type": "markdown",
      "source": [
        "Feature Extraction helps to convert your text data into numerical values. If you feed all these strings to your logistic regression model it doesn't understand anything so we need to convert this all this text data into meaningful numerical values"
      ],
      "metadata": {
        "id": "6tBRVDCcZsbU"
      }
    },
    {
      "cell_type": "code",
      "metadata": {
        "id": "nLs847nSRibm"
      },
      "source": [
        "# transform the text data to feature vectors that can be used as input to the Logistic regression\n",
        "\n",
        "feature_extraction = TfidfVectorizer(min_df = 1, stop_words='english', lowercase=True)\n",
        "\n",
        "X_train_features = feature_extraction.fit_transform(X_train)\n",
        "X_test_features = feature_extraction.transform(X_test)\n",
        "\n",
        "# convert Y_train and Y_test values as integers\n",
        "\n",
        "Y_train = Y_train.astype('int')\n",
        "Y_test = Y_test.astype('int')"
      ],
      "execution_count": null,
      "outputs": []
    },
    {
      "cell_type": "code",
      "source": [
        "Y_train"
      ],
      "metadata": {
        "id": "bMXssmbGmjq5"
      },
      "execution_count": null,
      "outputs": []
    },
    {
      "cell_type": "code",
      "source": [
        "Y_test"
      ],
      "metadata": {
        "id": "vs9mOuqQmnFZ"
      },
      "execution_count": null,
      "outputs": []
    },
    {
      "cell_type": "code",
      "metadata": {
        "id": "dBMAcw9RUkUY"
      },
      "source": [
        "print(X_train)"
      ],
      "execution_count": null,
      "outputs": []
    },
    {
      "cell_type": "code",
      "metadata": {
        "id": "1NFuGogZUpt0"
      },
      "source": [
        "print(X_train_features)"
      ],
      "execution_count": null,
      "outputs": []
    },
    {
      "cell_type": "markdown",
      "metadata": {
        "id": "q86FvELbU_SV"
      },
      "source": [
        "## Training the Model"
      ]
    },
    {
      "cell_type": "markdown",
      "metadata": {
        "id": "hV6BAIZQVBbo"
      },
      "source": [
        "## Logistic Regression"
      ]
    },
    {
      "cell_type": "code",
      "metadata": {
        "id": "1JeAOwzpUv0V"
      },
      "source": [
        "model = LogisticRegression()"
      ],
      "execution_count": null,
      "outputs": []
    },
    {
      "cell_type": "code",
      "metadata": {
        "id": "gWGRHWAPVI_z"
      },
      "source": [
        "# training the Logistic Regression model with the training data\n",
        "model.fit(X_train_features, Y_train)"
      ],
      "execution_count": null,
      "outputs": []
    },
    {
      "cell_type": "markdown",
      "metadata": {
        "id": "wZ01fa8dVeL5"
      },
      "source": [
        "## Evaluating the trained model"
      ]
    },
    {
      "cell_type": "code",
      "metadata": {
        "id": "ExiF2kKxVYtC"
      },
      "source": [
        "# prediction on training data\n",
        "\n",
        "prediction_on_training_data = model.predict(X_train_features)\n",
        "accuracy_on_training_data = accuracy_score(Y_train, prediction_on_training_data)"
      ],
      "execution_count": null,
      "outputs": []
    },
    {
      "cell_type": "code",
      "metadata": {
        "id": "o7t4DI5UWCkB"
      },
      "source": [
        "print('Accuracy on training data : ', accuracy_on_training_data)"
      ],
      "execution_count": null,
      "outputs": []
    },
    {
      "cell_type": "code",
      "metadata": {
        "id": "cTin5rXTWKg3"
      },
      "source": [
        "# prediction on test data\n",
        "\n",
        "prediction_on_test_data = model.predict(X_test_features)\n",
        "accuracy_on_test_data = accuracy_score(Y_test, prediction_on_test_data)"
      ],
      "execution_count": null,
      "outputs": []
    },
    {
      "cell_type": "code",
      "metadata": {
        "id": "4gvoMK4OWnJY"
      },
      "source": [
        "print('Accuracy on test data : ', accuracy_on_test_data)"
      ],
      "execution_count": null,
      "outputs": []
    },
    {
      "cell_type": "markdown",
      "metadata": {
        "id": "bXdOKxYAXaHC"
      },
      "source": [
        "## Building a Predictive System"
      ]
    },
    {
      "cell_type": "code",
      "metadata": {
        "id": "h60z1__mWql6"
      },
      "source": [
        "input_mail = [\"I've been searching for the right words to thank you for this breather. I promise i wont take your help for granted and will fulfil my promise. You have been wonderful and a blessing at all times\"]\n",
        "\n",
        "# convert text to feature vectors\n",
        "input_data_features = feature_extraction.transform(input_mail)\n",
        "\n",
        "# making prediction\n",
        "\n",
        "prediction = model.predict(input_data_features)\n",
        "print(prediction)\n",
        "\n",
        "\n",
        "if (prediction[0]==1):\n",
        "  print('Ham mail')\n",
        "\n",
        "else:\n",
        "  print('Spam mail')"
      ],
      "execution_count": null,
      "outputs": []
    }
  ]
}